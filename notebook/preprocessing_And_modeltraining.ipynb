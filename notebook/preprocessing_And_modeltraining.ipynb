{
 "cells": [
  {
   "cell_type": "code",
   "execution_count": 1,
   "id": "5e326e81-af3b-4058-b49f-bc41b7951f07",
   "metadata": {},
   "outputs": [],
   "source": [
    "import numpy as np\n",
    "import pandas as pd"
   ]
  },
  {
   "cell_type": "code",
   "execution_count": 2,
   "id": "57793408-8efd-4b22-82a1-6510a4000cbc",
   "metadata": {},
   "outputs": [],
   "source": [
    "data = pd.read_csv(\"data/intelligent_project_mapping.csv\")"
   ]
  },
  {
   "cell_type": "code",
   "execution_count": 3,
   "id": "17434169-3d31-4008-b09e-7fe83999e951",
   "metadata": {},
   "outputs": [
    {
     "data": {
      "text/html": [
       "<div>\n",
       "<style scoped>\n",
       "    .dataframe tbody tr th:only-of-type {\n",
       "        vertical-align: middle;\n",
       "    }\n",
       "\n",
       "    .dataframe tbody tr th {\n",
       "        vertical-align: top;\n",
       "    }\n",
       "\n",
       "    .dataframe thead th {\n",
       "        text-align: right;\n",
       "    }\n",
       "</style>\n",
       "<table border=\"1\" class=\"dataframe\">\n",
       "  <thead>\n",
       "    <tr style=\"text-align: right;\">\n",
       "      <th></th>\n",
       "      <th>Project Name</th>\n",
       "      <th>Project Description</th>\n",
       "      <th>Skills Required</th>\n",
       "      <th>Framework</th>\n",
       "      <th>Tools &amp; Technologies</th>\n",
       "      <th>Categorized Category</th>\n",
       "      <th>Categorized Domain</th>\n",
       "    </tr>\n",
       "  </thead>\n",
       "  <tbody>\n",
       "    <tr>\n",
       "      <th>0</th>\n",
       "      <td>AI Chatbot Development</td>\n",
       "      <td>Develop an AI-based chatbot using NLP and mach...</td>\n",
       "      <td>['Python', 'Natural Language Processing (NLP)'...</td>\n",
       "      <td>Spark MLlib</td>\n",
       "      <td>Kaggle Notebooks, Weights &amp; Biases, Neptune.ai</td>\n",
       "      <td>Artificial Intelligence</td>\n",
       "      <td>Healthcare</td>\n",
       "    </tr>\n",
       "    <tr>\n",
       "      <th>1</th>\n",
       "      <td>E-commerce Website</td>\n",
       "      <td>Build an e-commerce platform with dynamic prod...</td>\n",
       "      <td>['HTML', 'CSS', 'JavaScript', 'PHP', 'Bootstra...</td>\n",
       "      <td>Django</td>\n",
       "      <td>Chrome DevTools, Webpack, NPM</td>\n",
       "      <td>Software Engineering</td>\n",
       "      <td>E-commerce</td>\n",
       "    </tr>\n",
       "    <tr>\n",
       "      <th>2</th>\n",
       "      <td>Healthcare Prediction System</td>\n",
       "      <td>Create a predictive system for diagnosing dise...</td>\n",
       "      <td>['Python', 'Pandas', 'Scikit-learn', 'Matplotl...</td>\n",
       "      <td>TensorFlow</td>\n",
       "      <td>Kaggle Notebooks, Weights &amp; Biases, Neptune.ai</td>\n",
       "      <td>Analytics</td>\n",
       "      <td>Education</td>\n",
       "    </tr>\n",
       "    <tr>\n",
       "      <th>3</th>\n",
       "      <td>Social Media Analysis Tool</td>\n",
       "      <td>Analyze trends and sentiments in social media ...</td>\n",
       "      <td>['Python', 'Big Data', 'Hadoop', 'Apache Spark...</td>\n",
       "      <td>Ethereum</td>\n",
       "      <td>VS Code, Figma, Git, Chrome DevTools</td>\n",
       "      <td>Web Development</td>\n",
       "      <td>Entertainment</td>\n",
       "    </tr>\n",
       "    <tr>\n",
       "      <th>4</th>\n",
       "      <td>Online Quiz Platform</td>\n",
       "      <td>Develop an interactive online quiz application...</td>\n",
       "      <td>['JavaScript', 'Node.js', 'React', 'Redux', 'M...</td>\n",
       "      <td>Spring Boot</td>\n",
       "      <td>VS Code, Git, Docker, Postman</td>\n",
       "      <td>Web Development</td>\n",
       "      <td>Education</td>\n",
       "    </tr>\n",
       "    <tr>\n",
       "      <th>...</th>\n",
       "      <td>...</td>\n",
       "      <td>...</td>\n",
       "      <td>...</td>\n",
       "      <td>...</td>\n",
       "      <td>...</td>\n",
       "      <td>...</td>\n",
       "      <td>...</td>\n",
       "    </tr>\n",
       "    <tr>\n",
       "      <th>76</th>\n",
       "      <td>Student Attendance Management in C++ | Complet...</td>\n",
       "      <td>Predict medical insurance costs based on patie...</td>\n",
       "      <td>['Solidity', 'Blockchain', 'Cryptography', 'Sm...</td>\n",
       "      <td>XGBoost</td>\n",
       "      <td>Jupyter Notebook, Anaconda, Google Colab, AWS ...</td>\n",
       "      <td>Data Science</td>\n",
       "      <td>Technology</td>\n",
       "    </tr>\n",
       "    <tr>\n",
       "      <th>77</th>\n",
       "      <td>Human Resource Management | Complete C++ Proje...</td>\n",
       "      <td>Forecast sales for a retail store based on his...</td>\n",
       "      <td>['Python', 'Flask', 'Data Science', 'NumPy', '...</td>\n",
       "      <td>Express.js</td>\n",
       "      <td>Arduino IDE, Raspberry Pi SDK, MicroPython, Zi...</td>\n",
       "      <td>Web Development</td>\n",
       "      <td>Entertainment</td>\n",
       "    </tr>\n",
       "    <tr>\n",
       "      <th>78</th>\n",
       "      <td>Payroll Management in C++ | Complete C++ Proje...</td>\n",
       "      <td>Segment customers into groups based on purchas...</td>\n",
       "      <td>['C#', 'Unity', 'Game Design', '3D Modeling', ...</td>\n",
       "      <td>Unity</td>\n",
       "      <td>Unity Editor, Blender, Unreal Engine, Oculus S...</td>\n",
       "      <td>Blockchain</td>\n",
       "      <td>E-commerce</td>\n",
       "    </tr>\n",
       "    <tr>\n",
       "      <th>79</th>\n",
       "      <td>Atm Card Validation in C++ | Complete C++ Proj...</td>\n",
       "      <td>Build a machine learning model to detect Parki...</td>\n",
       "      <td>['Python', 'Network Security', 'Django', 'Pene...</td>\n",
       "      <td>Scikit-learn</td>\n",
       "      <td>Kaggle Notebooks, Weights &amp; Biases, Neptune.ai</td>\n",
       "      <td>Artificial Intelligence</td>\n",
       "      <td>Finance</td>\n",
       "    </tr>\n",
       "    <tr>\n",
       "      <th>80</th>\n",
       "      <td>Travel Agency Management | Complete C++ Projec...</td>\n",
       "      <td>Predict survival chances of Titanic passengers...</td>\n",
       "      <td>['Python', 'Natural Language Processing (NLP)'...</td>\n",
       "      <td>Django</td>\n",
       "      <td>Webpack, Babel, NPM, Firebase Tools</td>\n",
       "      <td>IoT</td>\n",
       "      <td>Healthcare</td>\n",
       "    </tr>\n",
       "  </tbody>\n",
       "</table>\n",
       "<p>81 rows × 7 columns</p>\n",
       "</div>"
      ],
      "text/plain": [
       "                                         Project Name  \\\n",
       "0                              AI Chatbot Development   \n",
       "1                                  E-commerce Website   \n",
       "2                        Healthcare Prediction System   \n",
       "3                          Social Media Analysis Tool   \n",
       "4                                Online Quiz Platform   \n",
       "..                                                ...   \n",
       "76  Student Attendance Management in C++ | Complet...   \n",
       "77  Human Resource Management | Complete C++ Proje...   \n",
       "78  Payroll Management in C++ | Complete C++ Proje...   \n",
       "79  Atm Card Validation in C++ | Complete C++ Proj...   \n",
       "80  Travel Agency Management | Complete C++ Projec...   \n",
       "\n",
       "                                  Project Description  \\\n",
       "0   Develop an AI-based chatbot using NLP and mach...   \n",
       "1   Build an e-commerce platform with dynamic prod...   \n",
       "2   Create a predictive system for diagnosing dise...   \n",
       "3   Analyze trends and sentiments in social media ...   \n",
       "4   Develop an interactive online quiz application...   \n",
       "..                                                ...   \n",
       "76  Predict medical insurance costs based on patie...   \n",
       "77  Forecast sales for a retail store based on his...   \n",
       "78  Segment customers into groups based on purchas...   \n",
       "79  Build a machine learning model to detect Parki...   \n",
       "80  Predict survival chances of Titanic passengers...   \n",
       "\n",
       "                                      Skills Required     Framework  \\\n",
       "0   ['Python', 'Natural Language Processing (NLP)'...   Spark MLlib   \n",
       "1   ['HTML', 'CSS', 'JavaScript', 'PHP', 'Bootstra...        Django   \n",
       "2   ['Python', 'Pandas', 'Scikit-learn', 'Matplotl...    TensorFlow   \n",
       "3   ['Python', 'Big Data', 'Hadoop', 'Apache Spark...      Ethereum   \n",
       "4   ['JavaScript', 'Node.js', 'React', 'Redux', 'M...   Spring Boot   \n",
       "..                                                ...           ...   \n",
       "76  ['Solidity', 'Blockchain', 'Cryptography', 'Sm...       XGBoost   \n",
       "77  ['Python', 'Flask', 'Data Science', 'NumPy', '...    Express.js   \n",
       "78  ['C#', 'Unity', 'Game Design', '3D Modeling', ...         Unity   \n",
       "79  ['Python', 'Network Security', 'Django', 'Pene...  Scikit-learn   \n",
       "80  ['Python', 'Natural Language Processing (NLP)'...        Django   \n",
       "\n",
       "                                 Tools & Technologies  \\\n",
       "0      Kaggle Notebooks, Weights & Biases, Neptune.ai   \n",
       "1                       Chrome DevTools, Webpack, NPM   \n",
       "2      Kaggle Notebooks, Weights & Biases, Neptune.ai   \n",
       "3                VS Code, Figma, Git, Chrome DevTools   \n",
       "4                       VS Code, Git, Docker, Postman   \n",
       "..                                                ...   \n",
       "76  Jupyter Notebook, Anaconda, Google Colab, AWS ...   \n",
       "77  Arduino IDE, Raspberry Pi SDK, MicroPython, Zi...   \n",
       "78  Unity Editor, Blender, Unreal Engine, Oculus S...   \n",
       "79     Kaggle Notebooks, Weights & Biases, Neptune.ai   \n",
       "80                Webpack, Babel, NPM, Firebase Tools   \n",
       "\n",
       "       Categorized Category Categorized Domain  \n",
       "0   Artificial Intelligence         Healthcare  \n",
       "1      Software Engineering         E-commerce  \n",
       "2                 Analytics          Education  \n",
       "3           Web Development      Entertainment  \n",
       "4           Web Development          Education  \n",
       "..                      ...                ...  \n",
       "76             Data Science         Technology  \n",
       "77          Web Development      Entertainment  \n",
       "78               Blockchain         E-commerce  \n",
       "79  Artificial Intelligence            Finance  \n",
       "80                      IoT         Healthcare  \n",
       "\n",
       "[81 rows x 7 columns]"
      ]
     },
     "execution_count": 3,
     "metadata": {},
     "output_type": "execute_result"
    }
   ],
   "source": [
    "data"
   ]
  },
  {
   "cell_type": "code",
   "execution_count": 4,
   "id": "b8db0938-3bcc-46bf-a933-428689b6cd25",
   "metadata": {},
   "outputs": [
    {
     "data": {
      "text/plain": [
       "Project Name            0\n",
       "Project Description     0\n",
       "Skills Required         0\n",
       "Framework               0\n",
       "Tools & Technologies    0\n",
       "Categorized Category    0\n",
       "Categorized Domain      0\n",
       "dtype: int64"
      ]
     },
     "execution_count": 4,
     "metadata": {},
     "output_type": "execute_result"
    }
   ],
   "source": [
    "data.isnull().sum()"
   ]
  },
  {
   "cell_type": "code",
   "execution_count": 5,
   "id": "321a7f5b-ba88-4e66-88e3-21009da80a27",
   "metadata": {},
   "outputs": [
    {
     "data": {
      "text/plain": [
       "np.int64(0)"
      ]
     },
     "execution_count": 5,
     "metadata": {},
     "output_type": "execute_result"
    }
   ],
   "source": [
    "data.duplicated().sum()"
   ]
  },
  {
   "cell_type": "code",
   "execution_count": 6,
   "id": "6398671c-3998-4100-bc38-a85447776080",
   "metadata": {},
   "outputs": [],
   "source": [
    "data = data.drop_duplicates(keep='first')"
   ]
  },
  {
   "cell_type": "code",
   "execution_count": 7,
   "id": "7f744a67-7180-443d-a267-d86f31dc3162",
   "metadata": {},
   "outputs": [
    {
     "data": {
      "text/plain": [
       "np.int64(0)"
      ]
     },
     "execution_count": 7,
     "metadata": {},
     "output_type": "execute_result"
    }
   ],
   "source": [
    "data.duplicated().sum()"
   ]
  },
  {
   "cell_type": "code",
   "execution_count": 8,
   "id": "e3d8e48d-47c0-496d-9c0a-bb0830e57b57",
   "metadata": {},
   "outputs": [
    {
     "data": {
      "text/plain": [
       "Project Name\n",
       "AI Chatbot Development                                                       1\n",
       "E-commerce Website                                                           1\n",
       "Healthcare Prediction System                                                 1\n",
       "Social Media Analysis Tool                                                   1\n",
       "Online Quiz Platform                                                         1\n",
       "                                                                            ..\n",
       "Student Attendance Management in C++ | Complete C++ Project for beginners    1\n",
       "Human Resource Management | Complete C++ Project for beginners               1\n",
       "Payroll Management in C++ | Complete C++ Projects for Beginners              1\n",
       "Atm Card Validation in C++ | Complete C++ Project for beginners              1\n",
       "Travel Agency Management | Complete C++ Project for beginners                1\n",
       "Name: count, Length: 81, dtype: int64"
      ]
     },
     "execution_count": 8,
     "metadata": {},
     "output_type": "execute_result"
    }
   ],
   "source": [
    "data['Project Name'].value_counts()"
   ]
  },
  {
   "cell_type": "code",
   "execution_count": 9,
   "id": "f7b0de02-e1aa-4230-8c8e-e56c8b06fbc7",
   "metadata": {},
   "outputs": [],
   "source": [
    "data['tags'] = data['Project Description'] + data['Skills Required'] + data['Framework'] + data['Tools & Technologies'] + data['Categorized Category'] + data['Categorized Domain']"
   ]
  },
  {
   "cell_type": "code",
   "execution_count": 10,
   "id": "d0921948-d266-4775-8964-d935ef77e7a9",
   "metadata": {},
   "outputs": [
    {
     "data": {
      "text/plain": [
       "0     Develop an AI-based chatbot using NLP and mach...\n",
       "1     Build an e-commerce platform with dynamic prod...\n",
       "2     Create a predictive system for diagnosing dise...\n",
       "3     Analyze trends and sentiments in social media ...\n",
       "4     Develop an interactive online quiz application...\n",
       "                            ...                        \n",
       "76    Predict medical insurance costs based on patie...\n",
       "77    Forecast sales for a retail store based on his...\n",
       "78    Segment customers into groups based on purchas...\n",
       "79    Build a machine learning model to detect Parki...\n",
       "80    Predict survival chances of Titanic passengers...\n",
       "Name: tags, Length: 81, dtype: object"
      ]
     },
     "execution_count": 10,
     "metadata": {},
     "output_type": "execute_result"
    }
   ],
   "source": [
    "data['tags']"
   ]
  },
  {
   "cell_type": "code",
   "execution_count": 11,
   "id": "8ce1402c-0477-4727-8c38-60f5974e9f56",
   "metadata": {},
   "outputs": [],
   "source": [
    "processed_data = data[['Project Name','Project Description','tags']]"
   ]
  },
  {
   "cell_type": "code",
   "execution_count": 12,
   "id": "13c7df1d-0f51-4fea-b62d-d2a9a0391e96",
   "metadata": {},
   "outputs": [],
   "source": [
    "from nltk.stem.porter import PorterStemmer\n",
    "ps = PorterStemmer()"
   ]
  },
  {
   "cell_type": "code",
   "execution_count": 13,
   "id": "f2306bd8-aad9-42cf-b674-6ed03f3ff9db",
   "metadata": {},
   "outputs": [],
   "source": [
    "def setming(text):\n",
    "    y = []\n",
    "    for i in text.split():\n",
    "        y.append(ps.stem(i))\n",
    "    return \" \".join(y)"
   ]
  },
  {
   "cell_type": "code",
   "execution_count": 14,
   "id": "2d9e1e51-6841-4f8d-a8a7-fd0e0c910cde",
   "metadata": {},
   "outputs": [
    {
     "name": "stderr",
     "output_type": "stream",
     "text": [
      "/tmp/ipykernel_52936/1473170004.py:1: SettingWithCopyWarning: \n",
      "A value is trying to be set on a copy of a slice from a DataFrame.\n",
      "Try using .loc[row_indexer,col_indexer] = value instead\n",
      "\n",
      "See the caveats in the documentation: https://pandas.pydata.org/pandas-docs/stable/user_guide/indexing.html#returning-a-view-versus-a-copy\n",
      "  processed_data['tags'] = processed_data['tags'].apply(setming)\n"
     ]
    }
   ],
   "source": [
    "processed_data['tags'] = processed_data['tags'].apply(setming)"
   ]
  },
  {
   "cell_type": "code",
   "execution_count": 15,
   "id": "904fc4ad-f626-49a7-92cb-2e60a3b06d88",
   "metadata": {},
   "outputs": [
    {
     "data": {
      "text/html": [
       "<div>\n",
       "<style scoped>\n",
       "    .dataframe tbody tr th:only-of-type {\n",
       "        vertical-align: middle;\n",
       "    }\n",
       "\n",
       "    .dataframe tbody tr th {\n",
       "        vertical-align: top;\n",
       "    }\n",
       "\n",
       "    .dataframe thead th {\n",
       "        text-align: right;\n",
       "    }\n",
       "</style>\n",
       "<table border=\"1\" class=\"dataframe\">\n",
       "  <thead>\n",
       "    <tr style=\"text-align: right;\">\n",
       "      <th></th>\n",
       "      <th>Project Name</th>\n",
       "      <th>Project Description</th>\n",
       "      <th>tags</th>\n",
       "    </tr>\n",
       "  </thead>\n",
       "  <tbody>\n",
       "    <tr>\n",
       "      <th>0</th>\n",
       "      <td>AI Chatbot Development</td>\n",
       "      <td>Develop an AI-based chatbot using NLP and mach...</td>\n",
       "      <td>develop an ai-bas chatbot use nlp and machin l...</td>\n",
       "    </tr>\n",
       "    <tr>\n",
       "      <th>1</th>\n",
       "      <td>E-commerce Website</td>\n",
       "      <td>Build an e-commerce platform with dynamic prod...</td>\n",
       "      <td>build an e-commerc platform with dynam product...</td>\n",
       "    </tr>\n",
       "    <tr>\n",
       "      <th>2</th>\n",
       "      <td>Healthcare Prediction System</td>\n",
       "      <td>Create a predictive system for diagnosing dise...</td>\n",
       "      <td>creat a predict system for diagnos diseas base...</td>\n",
       "    </tr>\n",
       "    <tr>\n",
       "      <th>3</th>\n",
       "      <td>Social Media Analysis Tool</td>\n",
       "      <td>Analyze trends and sentiments in social media ...</td>\n",
       "      <td>analyz trend and sentiment in social media dat...</td>\n",
       "    </tr>\n",
       "    <tr>\n",
       "      <th>4</th>\n",
       "      <td>Online Quiz Platform</td>\n",
       "      <td>Develop an interactive online quiz application...</td>\n",
       "      <td>develop an interact onlin quiz applic with rea...</td>\n",
       "    </tr>\n",
       "    <tr>\n",
       "      <th>...</th>\n",
       "      <td>...</td>\n",
       "      <td>...</td>\n",
       "      <td>...</td>\n",
       "    </tr>\n",
       "    <tr>\n",
       "      <th>76</th>\n",
       "      <td>Student Attendance Management in C++ | Complet...</td>\n",
       "      <td>Predict medical insurance costs based on patie...</td>\n",
       "      <td>predict medic insur cost base on patient demog...</td>\n",
       "    </tr>\n",
       "    <tr>\n",
       "      <th>77</th>\n",
       "      <td>Human Resource Management | Complete C++ Proje...</td>\n",
       "      <td>Forecast sales for a retail store based on his...</td>\n",
       "      <td>forecast sale for a retail store base on histo...</td>\n",
       "    </tr>\n",
       "    <tr>\n",
       "      <th>78</th>\n",
       "      <td>Payroll Management in C++ | Complete C++ Proje...</td>\n",
       "      <td>Segment customers into groups based on purchas...</td>\n",
       "      <td>segment custom into group base on purchas beha...</td>\n",
       "    </tr>\n",
       "    <tr>\n",
       "      <th>79</th>\n",
       "      <td>Atm Card Validation in C++ | Complete C++ Proj...</td>\n",
       "      <td>Build a machine learning model to detect Parki...</td>\n",
       "      <td>build a machin learn model to detect parkinson...</td>\n",
       "    </tr>\n",
       "    <tr>\n",
       "      <th>80</th>\n",
       "      <td>Travel Agency Management | Complete C++ Projec...</td>\n",
       "      <td>Predict survival chances of Titanic passengers...</td>\n",
       "      <td>predict surviv chanc of titan passeng base on ...</td>\n",
       "    </tr>\n",
       "  </tbody>\n",
       "</table>\n",
       "<p>81 rows × 3 columns</p>\n",
       "</div>"
      ],
      "text/plain": [
       "                                         Project Name  \\\n",
       "0                              AI Chatbot Development   \n",
       "1                                  E-commerce Website   \n",
       "2                        Healthcare Prediction System   \n",
       "3                          Social Media Analysis Tool   \n",
       "4                                Online Quiz Platform   \n",
       "..                                                ...   \n",
       "76  Student Attendance Management in C++ | Complet...   \n",
       "77  Human Resource Management | Complete C++ Proje...   \n",
       "78  Payroll Management in C++ | Complete C++ Proje...   \n",
       "79  Atm Card Validation in C++ | Complete C++ Proj...   \n",
       "80  Travel Agency Management | Complete C++ Projec...   \n",
       "\n",
       "                                  Project Description  \\\n",
       "0   Develop an AI-based chatbot using NLP and mach...   \n",
       "1   Build an e-commerce platform with dynamic prod...   \n",
       "2   Create a predictive system for diagnosing dise...   \n",
       "3   Analyze trends and sentiments in social media ...   \n",
       "4   Develop an interactive online quiz application...   \n",
       "..                                                ...   \n",
       "76  Predict medical insurance costs based on patie...   \n",
       "77  Forecast sales for a retail store based on his...   \n",
       "78  Segment customers into groups based on purchas...   \n",
       "79  Build a machine learning model to detect Parki...   \n",
       "80  Predict survival chances of Titanic passengers...   \n",
       "\n",
       "                                                 tags  \n",
       "0   develop an ai-bas chatbot use nlp and machin l...  \n",
       "1   build an e-commerc platform with dynam product...  \n",
       "2   creat a predict system for diagnos diseas base...  \n",
       "3   analyz trend and sentiment in social media dat...  \n",
       "4   develop an interact onlin quiz applic with rea...  \n",
       "..                                                ...  \n",
       "76  predict medic insur cost base on patient demog...  \n",
       "77  forecast sale for a retail store base on histo...  \n",
       "78  segment custom into group base on purchas beha...  \n",
       "79  build a machin learn model to detect parkinson...  \n",
       "80  predict surviv chanc of titan passeng base on ...  \n",
       "\n",
       "[81 rows x 3 columns]"
      ]
     },
     "execution_count": 15,
     "metadata": {},
     "output_type": "execute_result"
    }
   ],
   "source": [
    "processed_data"
   ]
  },
  {
   "cell_type": "code",
   "execution_count": 16,
   "id": "caf86ac9-4a72-4480-b826-21409b35b77b",
   "metadata": {},
   "outputs": [],
   "source": [
    "from sklearn.feature_extraction.text import CountVectorizer\n",
    "cv = CountVectorizer(max_features=1100,stop_words='english')"
   ]
  },
  {
   "cell_type": "code",
   "execution_count": 17,
   "id": "15f2e36e-e4f4-4f02-8edb-95f1cba2122d",
   "metadata": {},
   "outputs": [],
   "source": [
    "vector = cv.fit_transform(processed_data['tags']).toarray()"
   ]
  },
  {
   "cell_type": "code",
   "execution_count": 18,
   "id": "0cdee265-d70e-41e7-89b9-cf10d6ef078a",
   "metadata": {},
   "outputs": [
    {
     "data": {
      "text/plain": [
       "(81, 548)"
      ]
     },
     "execution_count": 18,
     "metadata": {},
     "output_type": "execute_result"
    }
   ],
   "source": [
    "vector.shape"
   ]
  },
  {
   "cell_type": "code",
   "execution_count": 19,
   "id": "f360c783-5061-436c-ae97-5a36860cfc0a",
   "metadata": {},
   "outputs": [],
   "source": [
    "from sklearn.metrics.pairwise import cosine_similarity"
   ]
  },
  {
   "cell_type": "code",
   "execution_count": 20,
   "id": "1a0ddbc3-6623-4711-bce1-93656fc77cc5",
   "metadata": {},
   "outputs": [],
   "source": [
    "similarity = cosine_similarity(vector)"
   ]
  },
  {
   "cell_type": "code",
   "execution_count": 21,
   "id": "57425fa3-0046-4375-a5c6-5941d618372e",
   "metadata": {},
   "outputs": [
    {
     "data": {
      "text/plain": [
       "array([[1.        , 0.02344036, 0.33678226, ..., 0.04229549, 0.28154625,\n",
       "        0.62176183],\n",
       "       [0.02344036, 1.        , 0.        , ..., 0.07733089, 0.02639818,\n",
       "        0.        ],\n",
       "       [0.33678226, 0.        , 1.        , ..., 0.04357102, 0.3569686 ,\n",
       "        0.25162996],\n",
       "       ...,\n",
       "       [0.04229549, 0.07733089, 0.04357102, ..., 1.        , 0.02381628,\n",
       "        0.02441931],\n",
       "       [0.28154625, 0.02639818, 0.3569686 , ..., 0.02381628, 1.        ,\n",
       "        0.17505471],\n",
       "       [0.62176183, 0.        , 0.25162996, ..., 0.02441931, 0.17505471,\n",
       "        1.        ]])"
      ]
     },
     "execution_count": 21,
     "metadata": {},
     "output_type": "execute_result"
    }
   ],
   "source": [
    "similarity"
   ]
  },
  {
   "cell_type": "code",
   "execution_count": 22,
   "id": "d02c7ddf-951d-4e3f-b0a5-f16fa58a4946",
   "metadata": {},
   "outputs": [
    {
     "data": {
      "text/plain": [
       "(40, np.float64(0.6839411288813299))"
      ]
     },
     "execution_count": 22,
     "metadata": {},
     "output_type": "execute_result"
    }
   ],
   "source": [
    "sorted(list(enumerate(similarity[0])),reverse=True, key = lambda x:x[1])[1]"
   ]
  },
  {
   "cell_type": "code",
   "execution_count": 23,
   "id": "dd3fb4cc-e84f-4cbe-8996-cdec33989447",
   "metadata": {},
   "outputs": [],
   "source": [
    "# def recommend(details):\n",
    "#     details = setming(deatils)\n",
    "#     input_vector = cv.transform(details).toarray()\n",
    "#     similarities = cosine_similarity(input_vector, project_vectors)[0]\n",
    "    # project_index = processed_data[processed_data['Project Name'] == project_name].index[0]\n",
    "    # scores = list(enumerate(similarity[project_index]))\n",
    "    # sorted_scores = sorted(scores, key=lambda x: x[1], reverse=True)\n",
    "    # recommended_projects = sorted_scores[1:6]\n",
    "    # recommendations = [processed_data.iloc[i[0]]['Project Name'] for i in recommended_projects]\n",
    "    \n",
    "    # input_vector = cv.transform([stemmed_input_tags]).toarray()\n",
    "    \n",
    "    # # Calculate cosine similarity between input vector and all project vectors\n",
    "    # similarities = cosine_similarity(input_vector, project_vectors)[0]\n",
    "\n",
    "    # input_tags_list = []\n",
    "    \n",
    "    # # Add input attributes to input tags\n",
    "    # for attr in [input_skills, input_framework, input_tools, input_category, input_domain]:\n",
    "    #     if attr:\n",
    "    #         input_tags_list.extend([str(x).lower() for x in attr])\n",
    "    \n",
    "    # # Stem input tags\n",
    "    # stemmed_input_tags = \" \".join([ps.stem(tag) for tag in input_tags_list])\n",
    "    \n",
    "    # return recommendations"
   ]
  },
  {
   "cell_type": "code",
   "execution_count": 24,
   "id": "b11e18a3-7df3-42fb-936c-78b22a2aae9f",
   "metadata": {},
   "outputs": [],
   "source": [
    "def recommend_projects_separate_input(\n",
    "    data,\n",
    "    input_skills=None,\n",
    "    input_framework=None,\n",
    "    input_tools=None,\n",
    "    input_category=None,\n",
    "    input_domain=None,\n",
    "    top_n=5\n",
    "):\n",
    "\n",
    "    input_tags_list = []\n",
    "    \n",
    "    # Add input attributes to input tags\n",
    "    for attr in [input_skills, input_framework, input_tools, input_category, input_domain]:\n",
    "        if attr:\n",
    "            input_tags_list.extend([str(x).lower() for x in attr])\n",
    "    \n",
    "    # Stem input tags\n",
    "    stemmed_input_tags = \" \".join([ps.stem(tag) for tag in input_tags_list])\n",
    "\n",
    "    # Vectorize input tags using the same vectorizer\n",
    "    input_vector = cv.transform([stemmed_input_tags]).toarray()\n",
    "    \n",
    "    # Calculate cosine similarity between input vector and all project vectors\n",
    "    similarities = cosine_similarity(input_vector, vector)[0]\n",
    "    index = sorted(list(enumerate(similarities)),reverse=True, key = lambda x:x[1])[1][0]\n",
    "    project_name = processed_data.loc[index, 'Project Name']\n",
    "    project_description = processed_data.loc[index, 'Project Description']\n",
    "\n",
    "    return [project_name,project_description]\n",
    "   "
   ]
  },
  {
   "cell_type": "code",
   "execution_count": 25,
   "id": "8ff5410a-8814-4b3b-9aa0-2253eb1e2854",
   "metadata": {},
   "outputs": [
    {
     "name": "stdout",
     "output_type": "stream",
     "text": [
      "Parkinson's Disease Detection using Machine Learning - Python | Machine Learning Project,Build a machine learning model to detect Parkinson's disease based on vocal data.,"
     ]
    }
   ],
   "source": [
    "recommendations = recommend_projects_separate_input(\n",
    "    data,\n",
    "    input_skills=['python', 'machine learning'],\n",
    "    input_framework=['tensorflow'],\n",
    "    input_tools=['jupyter'],\n",
    "    input_category=['data science'],\n",
    "    input_domain=['healthcare']\n",
    ")\n",
    "\n",
    "for rec in recommendations:\n",
    "    print(rec,end = \",\")"
   ]
  },
  {
   "cell_type": "code",
   "execution_count": 26,
   "id": "ebba0b44-559c-4f51-9b13-fbaab56bbf26",
   "metadata": {},
   "outputs": [],
   "source": [
    "project_name = processed_data.loc[1, 'Project Name']"
   ]
  },
  {
   "cell_type": "code",
   "execution_count": 27,
   "id": "bc45fcd7-dd63-42de-a49e-09d642f033e1",
   "metadata": {},
   "outputs": [
    {
     "data": {
      "text/plain": [
       "'E-commerce Website'"
      ]
     },
     "execution_count": 27,
     "metadata": {},
     "output_type": "execute_result"
    }
   ],
   "source": [
    "project_name"
   ]
  },
  {
   "cell_type": "code",
   "execution_count": 28,
   "id": "91944f4f-0484-4952-ba41-30368f2b7343",
   "metadata": {},
   "outputs": [
    {
     "data": {
      "text/html": [
       "<div>\n",
       "<style scoped>\n",
       "    .dataframe tbody tr th:only-of-type {\n",
       "        vertical-align: middle;\n",
       "    }\n",
       "\n",
       "    .dataframe tbody tr th {\n",
       "        vertical-align: top;\n",
       "    }\n",
       "\n",
       "    .dataframe thead th {\n",
       "        text-align: right;\n",
       "    }\n",
       "</style>\n",
       "<table border=\"1\" class=\"dataframe\">\n",
       "  <thead>\n",
       "    <tr style=\"text-align: right;\">\n",
       "      <th></th>\n",
       "      <th>Project Name</th>\n",
       "      <th>Project Description</th>\n",
       "      <th>tags</th>\n",
       "    </tr>\n",
       "  </thead>\n",
       "  <tbody>\n",
       "  </tbody>\n",
       "</table>\n",
       "</div>"
      ],
      "text/plain": [
       "Empty DataFrame\n",
       "Columns: [Project Name, Project Description, tags]\n",
       "Index: []"
      ]
     },
     "execution_count": 28,
     "metadata": {},
     "output_type": "execute_result"
    }
   ],
   "source": [
    "# processed_data[processed_data['Project Name'] == \"Personalized Learning Platform\"]"
   ]
  },
  {
   "cell_type": "code",
   "execution_count": 29,
   "id": "88cce6b2-22c5-409d-af0f-4970384d658e",
   "metadata": {},
   "outputs": [],
   "source": [
    " # Create a DataFrame with project details and similarities\n",
    "    # recommendation_df = pd.DataFrame({\n",
    "    #     'Project Name': data['Project Name'],\n",
    "    #     'Project Description': data['Project Description'],\n",
    "    #     'Similarity Score': similarities\n",
    "    # })\n",
    "    \n",
    "    # # Sort and get top N recommendations\n",
    "    # recommendations = recommendation_df.sort_values(\n",
    "    #     'Similarity Score', \n",
    "    #     ascending=False\n",
    "    # ).head(top_n)\n",
    "    \n",
    "    # # Convert to list of dictionaries\n",
    "    # result = recommendations.to_dict('records')\n",
    "    \n",
    "    # return result\n",
    "\n",
    "# Example usage\n",
    "# recommendations = recommend_projects_separate_input(\n",
    "#     data,\n",
    "#     input_skills=['python', 'machine learning'],\n",
    "#     input_framework=['tensorflow'],\n",
    "#     input_tools=['jupyter'],\n",
    "#     input_category=['data science'],\n",
    "#     input_domain=['healthcare']\n",
    "# )\n",
    "# \n",
    "# for rec in recommendations:\n",
    "#     print(f\"Project Name: {rec['Project Name']}\")\n",
    "#     print(f\"Project Description: {rec['Project Description']}\")\n",
    "#     print(f\"Similarity Score: {rec['Similarity Score']}\\n\")"
   ]
  }
 ],
 "metadata": {
  "kernelspec": {
   "display_name": "Python 3 (ipykernel)",
   "language": "python",
   "name": "python3"
  },
  "language_info": {
   "codemirror_mode": {
    "name": "ipython",
    "version": 3
   },
   "file_extension": ".py",
   "mimetype": "text/x-python",
   "name": "python",
   "nbconvert_exporter": "python",
   "pygments_lexer": "ipython3",
   "version": "3.12.0"
  }
 },
 "nbformat": 4,
 "nbformat_minor": 5
}
