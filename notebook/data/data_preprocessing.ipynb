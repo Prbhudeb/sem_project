{
 "cells": [
  {
   "cell_type": "code",
   "execution_count": 2,
   "id": "12a93780-e850-45ee-81f7-7f65301b8b15",
   "metadata": {},
   "outputs": [],
   "source": [
    "import numpy as np\n",
    "import pandas as pd\n",
    "import seaborn as sns\n",
    "import matplotlib.pyplot as plt"
   ]
  },
  {
   "cell_type": "code",
   "execution_count": 4,
   "id": "56cffcd5-ace1-436f-b765-9ce16c4680d5",
   "metadata": {},
   "outputs": [],
   "source": [
    "data = pd.read_csv(\"project_recommendation_dataset.csv\")"
   ]
  },
  {
   "cell_type": "code",
   "execution_count": 5,
   "id": "b4e6b2fc-5da6-4bcc-aa59-67856a457c5f",
   "metadata": {},
   "outputs": [
    {
     "data": {
      "text/html": [
       "<div>\n",
       "<style scoped>\n",
       "    .dataframe tbody tr th:only-of-type {\n",
       "        vertical-align: middle;\n",
       "    }\n",
       "\n",
       "    .dataframe tbody tr th {\n",
       "        vertical-align: top;\n",
       "    }\n",
       "\n",
       "    .dataframe thead th {\n",
       "        text-align: right;\n",
       "    }\n",
       "</style>\n",
       "<table border=\"1\" class=\"dataframe\">\n",
       "  <thead>\n",
       "    <tr style=\"text-align: right;\">\n",
       "      <th></th>\n",
       "      <th>Project Name</th>\n",
       "      <th>Description</th>\n",
       "      <th>Skills Required</th>\n",
       "      <th>Difficulty Level</th>\n",
       "      <th>Category</th>\n",
       "      <th>Resources</th>\n",
       "    </tr>\n",
       "  </thead>\n",
       "  <tbody>\n",
       "    <tr>\n",
       "      <th>0</th>\n",
       "      <td>Image Classifier</td>\n",
       "      <td>Build a responsive portfolio website showcasin...</td>\n",
       "      <td>C++, Data Structures</td>\n",
       "      <td>Intermediate</td>\n",
       "      <td>Game Development</td>\n",
       "      <td>https://openweathermap.org/</td>\n",
       "    </tr>\n",
       "    <tr>\n",
       "      <th>1</th>\n",
       "      <td>Personal Portfolio Website</td>\n",
       "      <td>Simulate a simple banking system with user acc...</td>\n",
       "      <td>Python, pandas, sklearn</td>\n",
       "      <td>Intermediate</td>\n",
       "      <td>AI/ML</td>\n",
       "      <td>https://nltk.org/</td>\n",
       "    </tr>\n",
       "    <tr>\n",
       "      <th>2</th>\n",
       "      <td>Library Management System</td>\n",
       "      <td>Build an image classification model using CNNs.</td>\n",
       "      <td>Python, pandas, sklearn</td>\n",
       "      <td>Intermediate</td>\n",
       "      <td>Machine Learning</td>\n",
       "      <td>https://kaggle.com/</td>\n",
       "    </tr>\n",
       "    <tr>\n",
       "      <th>3</th>\n",
       "      <td>Personal Portfolio Website</td>\n",
       "      <td>Build a tool that visualizes sorting algorithm...</td>\n",
       "      <td>Python, NLP, NLTK</td>\n",
       "      <td>Advanced</td>\n",
       "      <td>System Design</td>\n",
       "      <td>https://freecodecamp.org/</td>\n",
       "    </tr>\n",
       "    <tr>\n",
       "      <th>4</th>\n",
       "      <td>Library Management System</td>\n",
       "      <td>Design a CLI-based or GUI-based game of Tic-Ta...</td>\n",
       "      <td>Python, pandas, sklearn</td>\n",
       "      <td>Intermediate</td>\n",
       "      <td>Machine Learning</td>\n",
       "      <td>https://www.tensorflow.org/</td>\n",
       "    </tr>\n",
       "  </tbody>\n",
       "</table>\n",
       "</div>"
      ],
      "text/plain": [
       "                 Project Name  \\\n",
       "0            Image Classifier   \n",
       "1  Personal Portfolio Website   \n",
       "2   Library Management System   \n",
       "3  Personal Portfolio Website   \n",
       "4   Library Management System   \n",
       "\n",
       "                                         Description          Skills Required  \\\n",
       "0  Build a responsive portfolio website showcasin...     C++, Data Structures   \n",
       "1  Simulate a simple banking system with user acc...  Python, pandas, sklearn   \n",
       "2    Build an image classification model using CNNs.  Python, pandas, sklearn   \n",
       "3  Build a tool that visualizes sorting algorithm...        Python, NLP, NLTK   \n",
       "4  Design a CLI-based or GUI-based game of Tic-Ta...  Python, pandas, sklearn   \n",
       "\n",
       "  Difficulty Level          Category                    Resources  \n",
       "0     Intermediate  Game Development  https://openweathermap.org/  \n",
       "1     Intermediate             AI/ML            https://nltk.org/  \n",
       "2     Intermediate  Machine Learning          https://kaggle.com/  \n",
       "3         Advanced     System Design    https://freecodecamp.org/  \n",
       "4     Intermediate  Machine Learning  https://www.tensorflow.org/  "
      ]
     },
     "execution_count": 5,
     "metadata": {},
     "output_type": "execute_result"
    }
   ],
   "source": [
    "data.head()"
   ]
  },
  {
   "cell_type": "code",
   "execution_count": 6,
   "id": "709bc8cf-ba03-430b-b4bb-b463bec07c80",
   "metadata": {},
   "outputs": [
    {
     "name": "stdout",
     "output_type": "stream",
     "text": [
      "<class 'pandas.core.frame.DataFrame'>\n",
      "RangeIndex: 2000 entries, 0 to 1999\n",
      "Data columns (total 6 columns):\n",
      " #   Column            Non-Null Count  Dtype \n",
      "---  ------            --------------  ----- \n",
      " 0   Project Name      2000 non-null   object\n",
      " 1   Description       2000 non-null   object\n",
      " 2   Skills Required   2000 non-null   object\n",
      " 3   Difficulty Level  2000 non-null   object\n",
      " 4   Category          2000 non-null   object\n",
      " 5   Resources         2000 non-null   object\n",
      "dtypes: object(6)\n",
      "memory usage: 93.9+ KB\n"
     ]
    }
   ],
   "source": [
    "data.info()"
   ]
  },
  {
   "cell_type": "code",
   "execution_count": 7,
   "id": "76d9b6af-0a71-42c5-9c5c-e594ab291af9",
   "metadata": {},
   "outputs": [
    {
     "data": {
      "text/plain": [
       "Project Name        0\n",
       "Description         0\n",
       "Skills Required     0\n",
       "Difficulty Level    0\n",
       "Category            0\n",
       "Resources           0\n",
       "dtype: int64"
      ]
     },
     "execution_count": 7,
     "metadata": {},
     "output_type": "execute_result"
    }
   ],
   "source": [
    "data.isna().sum()"
   ]
  },
  {
   "cell_type": "code",
   "execution_count": 9,
   "id": "37dea980-3057-445b-81ac-2894e355d1b5",
   "metadata": {},
   "outputs": [
    {
     "name": "stdout",
     "output_type": "stream",
     "text": [
      "7\n"
     ]
    }
   ],
   "source": [
    "print(data.duplicated().sum())"
   ]
  },
  {
   "cell_type": "code",
   "execution_count": 11,
   "id": "ca82f706-560a-439f-ab06-1b75b600d419",
   "metadata": {},
   "outputs": [
    {
     "data": {
      "text/plain": [
       "Project Name        10\n",
       "Description         10\n",
       "Skills Required     10\n",
       "Difficulty Level     3\n",
       "Category             8\n",
       "Resources            7\n",
       "dtype: int64"
      ]
     },
     "execution_count": 11,
     "metadata": {},
     "output_type": "execute_result"
    }
   ],
   "source": [
    "data.nunique()"
   ]
  },
  {
   "cell_type": "code",
   "execution_count": null,
   "id": "c167ae8e-13f3-49af-ae47-4e61375c9ffb",
   "metadata": {},
   "outputs": [],
   "source": []
  }
 ],
 "metadata": {
  "kernelspec": {
   "display_name": "Python 3 (ipykernel)",
   "language": "python",
   "name": "python3"
  },
  "language_info": {
   "codemirror_mode": {
    "name": "ipython",
    "version": 3
   },
   "file_extension": ".py",
   "mimetype": "text/x-python",
   "name": "python",
   "nbconvert_exporter": "python",
   "pygments_lexer": "ipython3",
   "version": "3.12.0"
  }
 },
 "nbformat": 4,
 "nbformat_minor": 5
}
